{
  "cells": [
    {
      "cell_type": "code",
      "execution_count": null,
      "id": "67888f77",
      "metadata": {
        "_cell_guid": "b1076dfc-b9ad-4769-8c92-a6c4dae69d19",
        "_uuid": "8f2839f25d086af736a60e9eeb907d3b93b6e0e5",
        "execution": {
          "iopub.execute_input": "2024-02-19T09:26:40.559319Z",
          "iopub.status.busy": "2024-02-19T09:26:40.558637Z",
          "iopub.status.idle": "2024-02-19T09:26:50.949106Z",
          "shell.execute_reply": "2024-02-19T09:26:50.948034Z"
        },
        "papermill": {
          "duration": 10.403628,
          "end_time": "2024-02-19T09:26:50.951489",
          "exception": false,
          "start_time": "2024-02-19T09:26:40.547861",
          "status": "completed"
        },
        "tags": [],
        "id": "67888f77"
      },
      "outputs": [],
      "source": [
        "import numpy as np\n",
        "import pandas as pd\n",
        "import matplotlib.pyplot as plt\n",
        "import seaborn as sns\n",
        "import os\n",
        "\n",
        "import tensorflow as tf\n",
        "from tensorflow.keras import layers, models\n",
        "from tensorflow.keras.callbacks import ModelCheckpoint\n",
        "from tensorflow.keras.preprocessing.image import ImageDataGenerator\n",
        "from sklearn.model_selection import train_test_split\n",
        "# image libraries\n",
        "import cv2"
      ]
    },
    {
      "cell_type": "code",
      "execution_count": null,
      "id": "ea3b8747",
      "metadata": {
        "execution": {
          "iopub.execute_input": "2024-02-19T09:26:50.965450Z",
          "iopub.status.busy": "2024-02-19T09:26:50.964855Z",
          "iopub.status.idle": "2024-02-19T09:32:46.583042Z",
          "shell.execute_reply": "2024-02-19T09:32:46.581923Z"
        },
        "papermill": {
          "duration": 355.628034,
          "end_time": "2024-02-19T09:32:46.585681",
          "exception": false,
          "start_time": "2024-02-19T09:26:50.957647",
          "status": "completed"
        },
        "tags": [],
        "id": "ea3b8747"
      },
      "outputs": [],
      "source": [
        "train_img_path = '/kaggle/input/cifake-real-and-ai-generated-synthetic-images/train'\n",
        "train = []\n",
        "\n",
        "train_label = []\n",
        "\n",
        "\n",
        "# Ensure the directory path is valid\n",
        "if os.path.exists(train_img_path):\n",
        "    # List all subdirectories in the main directory\n",
        "    subdirectories = os.listdir(train_img_path)\n",
        "\n",
        "    # Loop through all subdirectories\n",
        "    for subdirectory in subdirectories:\n",
        "        subdirectory_path = os.path.join(train_img_path, subdirectory)\n",
        "\n",
        "        # Check if the subdirectory exists and is a directory\n",
        "        if os.path.isdir(subdirectory_path):\n",
        "            # List all files in the subdirectory\n",
        "            file_list = os.listdir(subdirectory_path)\n",
        "\n",
        "            # Loop through all files in the subdirectory\n",
        "            for file_name in file_list:\n",
        "                # Construct the full path to the file\n",
        "                file_path = os.path.join(subdirectory_path, file_name)\n",
        "\n",
        "                # Check if the file is an image (you may need to adjust the condition based on your file types)\n",
        "                if file_name.endswith(('.jpg')):\n",
        "                    # Read the image using OpenCV\n",
        "                    img = cv2.imread(file_path)\n",
        "                    img=img/255\n",
        "                    # Assign label based on the subdirectory name\n",
        "                    if subdirectory == 'FAKE':\n",
        "\n",
        "                        train.append(img)\n",
        "                        train_label.append(0)  # Assign label 0 for fake images\n",
        "                    elif subdirectory == 'REAL':\n",
        "                        train.append(img)\n",
        "                        train_label.append(1)  # Assign label 1 for real images\n",
        "                    # Add more conditions if yo}u have other types of directories to process\n",
        "                    # ...\n",
        "else:\n",
        "    print(f\"The directory {train_img_path} does not exist.\")"
      ]
    },
    {
      "cell_type": "code",
      "execution_count": null,
      "id": "3e7e1299",
      "metadata": {
        "execution": {
          "iopub.execute_input": "2024-02-19T09:32:46.600028Z",
          "iopub.status.busy": "2024-02-19T09:32:46.599362Z",
          "iopub.status.idle": "2024-02-19T09:32:47.444048Z",
          "shell.execute_reply": "2024-02-19T09:32:47.442726Z"
        },
        "papermill": {
          "duration": 0.853898,
          "end_time": "2024-02-19T09:32:47.446160",
          "exception": false,
          "start_time": "2024-02-19T09:32:46.592262",
          "status": "completed"
        },
        "tags": [],
        "id": "3e7e1299",
        "outputId": "43225e79-998c-4deb-edc4-01691d68aa2e"
      },
      "outputs": [
        {
          "name": "stdout",
          "output_type": "stream",
          "text": [
            "(100000, 32, 32, 3)\n",
            "(100000,)\n"
          ]
        }
      ],
      "source": [
        "train=np.array(train)\n",
        "print(train.shape)\n",
        "train_label=np.array(train_label)\n",
        "print(train_label.shape)\n"
      ]
    },
    {
      "cell_type": "code",
      "execution_count": null,
      "id": "b469b16f",
      "metadata": {
        "execution": {
          "iopub.execute_input": "2024-02-19T09:32:47.460281Z",
          "iopub.status.busy": "2024-02-19T09:32:47.459510Z",
          "iopub.status.idle": "2024-02-19T09:32:48.129847Z",
          "shell.execute_reply": "2024-02-19T09:32:48.128857Z"
        },
        "papermill": {
          "duration": 0.679899,
          "end_time": "2024-02-19T09:32:48.132319",
          "exception": false,
          "start_time": "2024-02-19T09:32:47.452420",
          "status": "completed"
        },
        "tags": [],
        "id": "b469b16f"
      },
      "outputs": [],
      "source": [
        "\n",
        "X_train, X_test, y_train, y_test = train_test_split(train, train_label, test_size=0.2, random_state=42)"
      ]
    },
    {
      "cell_type": "markdown",
      "id": "1445969a",
      "metadata": {
        "papermill": {
          "duration": 0.005678,
          "end_time": "2024-02-19T09:32:48.144130",
          "exception": false,
          "start_time": "2024-02-19T09:32:48.138452",
          "status": "completed"
        },
        "tags": [],
        "id": "1445969a"
      },
      "source": [
        "# CNN Model"
      ]
    },
    {
      "cell_type": "code",
      "execution_count": null,
      "id": "4155b2e5",
      "metadata": {
        "execution": {
          "iopub.execute_input": "2024-02-19T09:32:48.158057Z",
          "iopub.status.busy": "2024-02-19T09:32:48.157363Z",
          "iopub.status.idle": "2024-02-19T09:32:48.988974Z",
          "shell.execute_reply": "2024-02-19T09:32:48.988229Z"
        },
        "papermill": {
          "duration": 0.848785,
          "end_time": "2024-02-19T09:32:48.998927",
          "exception": false,
          "start_time": "2024-02-19T09:32:48.150142",
          "status": "completed"
        },
        "tags": [],
        "id": "4155b2e5",
        "outputId": "d5fcda03-5677-4208-9a6c-c412d323241e"
      },
      "outputs": [
        {
          "name": "stdout",
          "output_type": "stream",
          "text": [
            "Model: \"sequential\"\n",
            "_________________________________________________________________\n",
            " Layer (type)                Output Shape              Param #   \n",
            "=================================================================\n",
            " conv2d (Conv2D)             (None, 30, 30, 32)        896       \n",
            "                                                                 \n",
            " max_pooling2d (MaxPooling2D  (None, 15, 15, 32)       0         \n",
            " )                                                               \n",
            "                                                                 \n",
            " conv2d_1 (Conv2D)           (None, 13, 13, 64)        18496     \n",
            "                                                                 \n",
            " max_pooling2d_1 (MaxPooling  (None, 6, 6, 64)         0         \n",
            " 2D)                                                             \n",
            "                                                                 \n",
            " conv2d_2 (Conv2D)           (None, 4, 4, 128)         73856     \n",
            "                                                                 \n",
            " max_pooling2d_2 (MaxPooling  (None, 2, 2, 128)        0         \n",
            " 2D)                                                             \n",
            "                                                                 \n",
            " flatten (Flatten)           (None, 512)               0         \n",
            "                                                                 \n",
            " dense (Dense)               (None, 256)               131328    \n",
            "                                                                 \n",
            " dropout (Dropout)           (None, 256)               0         \n",
            "                                                                 \n",
            " dense_1 (Dense)             (None, 1)                 257       \n",
            "                                                                 \n",
            "=================================================================\n",
            "Total params: 224,833\n",
            "Trainable params: 224,833\n",
            "Non-trainable params: 0\n",
            "_________________________________________________________________\n"
          ]
        }
      ],
      "source": [
        "# Define the model\n",
        "model = models.Sequential()\n",
        "\n",
        "# Convolutional layers\n",
        "model.add(layers.Conv2D(32, (3, 3), activation='relu', input_shape=(32, 32, 3)))\n",
        "model.add(layers.MaxPooling2D((2, 2)))\n",
        "model.add(layers.Conv2D(64, (3, 3), activation='relu'))\n",
        "model.add(layers.MaxPooling2D((2, 2)))\n",
        "model.add(layers.Conv2D(128, (3, 3), activation='relu'))\n",
        "model.add(layers.MaxPooling2D((2, 2)))\n",
        "\n",
        "# Flatten layer\n",
        "model.add(layers.Flatten())\n",
        "\n",
        "# Dense layers\n",
        "model.add(layers.Dense(256, activation='relu'))\n",
        "model.add(layers.Dropout(0.5))  # Optional dropout for regularization\n",
        "model.add(layers.Dense(1, activation='sigmoid'))  # Output layer with 1 neuron (binary classification)\n",
        "\n",
        "# Compile the model\n",
        "model.compile(optimizer='adam', loss='binary_crossentropy', metrics=['accuracy'])\n",
        "\n",
        "# Print a summary of the model architecture\n",
        "model.summary()"
      ]
    },
    {
      "cell_type": "markdown",
      "id": "08ff5935",
      "metadata": {
        "papermill": {
          "duration": 0.008286,
          "end_time": "2024-02-19T09:32:49.015580",
          "exception": false,
          "start_time": "2024-02-19T09:32:49.007294",
          "status": "completed"
        },
        "tags": [],
        "id": "08ff5935"
      },
      "source": [
        "# Run Model\n",
        "\n",
        "idk, why kaggle isn't using GPU here, run 5-10 epochs atleast."
      ]
    },
    {
      "cell_type": "code",
      "execution_count": null,
      "id": "2c631159",
      "metadata": {
        "execution": {
          "iopub.execute_input": "2024-02-19T09:32:49.034280Z",
          "iopub.status.busy": "2024-02-19T09:32:49.033381Z",
          "iopub.status.idle": "2024-02-19T09:32:49.038378Z",
          "shell.execute_reply": "2024-02-19T09:32:49.037470Z"
        },
        "papermill": {
          "duration": 0.016475,
          "end_time": "2024-02-19T09:32:49.040355",
          "exception": false,
          "start_time": "2024-02-19T09:32:49.023880",
          "status": "completed"
        },
        "tags": [],
        "id": "2c631159"
      },
      "outputs": [],
      "source": [
        "from tensorflow.keras.callbacks import ModelCheckpoint\n",
        "\n",
        "# Define the callback\n",
        "model_checkpoint = ModelCheckpoint(filepath='model_checkpoint.h5',\n",
        "                                   save_best_only=True)"
      ]
    },
    {
      "cell_type": "code",
      "execution_count": null,
      "id": "54ab709f",
      "metadata": {
        "execution": {
          "iopub.execute_input": "2024-02-19T09:32:49.058427Z",
          "iopub.status.busy": "2024-02-19T09:32:49.058099Z",
          "iopub.status.idle": "2024-02-19T09:34:36.243576Z",
          "shell.execute_reply": "2024-02-19T09:34:36.242754Z"
        },
        "papermill": {
          "duration": 107.196895,
          "end_time": "2024-02-19T09:34:36.245753",
          "exception": false,
          "start_time": "2024-02-19T09:32:49.048858",
          "status": "completed"
        },
        "tags": [],
        "id": "54ab709f",
        "outputId": "597f7f5b-81b1-4275-de18-a91c72d79e3a"
      },
      "outputs": [
        {
          "name": "stdout",
          "output_type": "stream",
          "text": [
            "Epoch 1/10\n",
            "2500/2500 [==============================] - 15s 4ms/step - loss: 0.3568 - accuracy: 0.8421 - val_loss: 0.3035 - val_accuracy: 0.8698\n",
            "Epoch 2/10\n",
            "2500/2500 [==============================] - 10s 4ms/step - loss: 0.2536 - accuracy: 0.8964 - val_loss: 0.2577 - val_accuracy: 0.8938\n",
            "Epoch 3/10\n",
            "2500/2500 [==============================] - 10s 4ms/step - loss: 0.2148 - accuracy: 0.9140 - val_loss: 0.2265 - val_accuracy: 0.9076\n",
            "Epoch 4/10\n",
            "2500/2500 [==============================] - 10s 4ms/step - loss: 0.1914 - accuracy: 0.9226 - val_loss: 0.2226 - val_accuracy: 0.9157\n",
            "Epoch 5/10\n",
            "2500/2500 [==============================] - 10s 4ms/step - loss: 0.1720 - accuracy: 0.9319 - val_loss: 0.1893 - val_accuracy: 0.9257\n",
            "Epoch 6/10\n",
            "2500/2500 [==============================] - 10s 4ms/step - loss: 0.1582 - accuracy: 0.9380 - val_loss: 0.1891 - val_accuracy: 0.9276\n",
            "Epoch 7/10\n",
            "2500/2500 [==============================] - 10s 4ms/step - loss: 0.1437 - accuracy: 0.9437 - val_loss: 0.2338 - val_accuracy: 0.9062\n",
            "Epoch 8/10\n",
            "2500/2500 [==============================] - 10s 4ms/step - loss: 0.1294 - accuracy: 0.9487 - val_loss: 0.1981 - val_accuracy: 0.9280\n",
            "Epoch 9/10\n",
            "2500/2500 [==============================] - 10s 4ms/step - loss: 0.1218 - accuracy: 0.9523 - val_loss: 0.1992 - val_accuracy: 0.9284\n",
            "Epoch 10/10\n",
            "2500/2500 [==============================] - 10s 4ms/step - loss: 0.1094 - accuracy: 0.9567 - val_loss: 0.1949 - val_accuracy: 0.9304\n"
          ]
        }
      ],
      "source": [
        "\n",
        "\n",
        "history = model.fit(X_train,y_train,\n",
        "                    epochs=10,\n",
        "                    validation_data= (X_test, y_test),\n",
        "                    callbacks=[model_checkpoint]\n",
        "                   )"
      ]
    },
    {
      "cell_type": "code",
      "execution_count": null,
      "id": "40412c37",
      "metadata": {
        "execution": {
          "iopub.execute_input": "2024-02-19T09:34:36.536669Z",
          "iopub.status.busy": "2024-02-19T09:34:36.536296Z",
          "iopub.status.idle": "2024-02-19T09:34:36.572855Z",
          "shell.execute_reply": "2024-02-19T09:34:36.571917Z"
        },
        "papermill": {
          "duration": 0.179829,
          "end_time": "2024-02-19T09:34:36.575267",
          "exception": false,
          "start_time": "2024-02-19T09:34:36.395438",
          "status": "completed"
        },
        "tags": [],
        "id": "40412c37"
      },
      "outputs": [],
      "source": [
        "model.save('fake_real.h5')"
      ]
    },
    {
      "cell_type": "code",
      "execution_count": null,
      "id": "3c165a28",
      "metadata": {
        "execution": {
          "iopub.execute_input": "2024-02-19T09:34:36.855027Z",
          "iopub.status.busy": "2024-02-19T09:34:36.854211Z",
          "iopub.status.idle": "2024-02-19T09:35:52.351563Z",
          "shell.execute_reply": "2024-02-19T09:35:52.350625Z"
        },
        "papermill": {
          "duration": 75.639802,
          "end_time": "2024-02-19T09:35:52.353957",
          "exception": false,
          "start_time": "2024-02-19T09:34:36.714155",
          "status": "completed"
        },
        "tags": [],
        "id": "3c165a28"
      },
      "outputs": [],
      "source": [
        "test_img_path = '/kaggle/input/cifake-real-and-ai-generated-synthetic-images/test'\n",
        "test = []\n",
        "\n",
        "test_label = []\n",
        "\n",
        "\n",
        "# Ensure the directory path is valid\n",
        "if os.path.exists(test_img_path):\n",
        "    # List all subdirectories in the main directory\n",
        "    subdirectories = os.listdir(test_img_path)\n",
        "\n",
        "    # Loop through all subdirectories\n",
        "    for subdirectory in subdirectories:\n",
        "        subdirectory_path = os.path.join(test_img_path, subdirectory)\n",
        "\n",
        "        # Check if the subdirectory exists and is a directory\n",
        "        if os.path.isdir(subdirectory_path):\n",
        "            # List all files in the subdirectory\n",
        "            file_list = os.listdir(subdirectory_path)\n",
        "\n",
        "            # Loop through all files in the subdirectory\n",
        "            for file_name in file_list:\n",
        "                # Construct the full path to the file\n",
        "                file_path = os.path.join(subdirectory_path, file_name)\n",
        "\n",
        "                # Check if the file is an image (you may need to adjust the condition based on your file types)\n",
        "                if file_name.endswith(('.jpg')):\n",
        "                    # Read the image using OpenCV\n",
        "                    img = cv2.imread(file_path)\n",
        "                    img=img/255\n",
        "                    # Assign label based on the subdirectory name\n",
        "                    if subdirectory == 'FAKE':\n",
        "                        test.append(img)\n",
        "                        test_label.append(0)  # Assign label 0 for fake images\n",
        "                    elif subdirectory == 'REAL':\n",
        "                        test.append(img)\n",
        "                        test_label.append(1)  # Assign label 1 for real images\n",
        "                    # Add more conditions if yo}u have other types of directories to process\n",
        "                    # ...\n",
        "else:\n",
        "    print(f\"The directory {test_img_path} does not exist.\")"
      ]
    },
    {
      "cell_type": "code",
      "execution_count": null,
      "id": "48039d24",
      "metadata": {
        "execution": {
          "iopub.execute_input": "2024-02-19T09:35:52.636993Z",
          "iopub.status.busy": "2024-02-19T09:35:52.636630Z",
          "iopub.status.idle": "2024-02-19T09:35:52.806555Z",
          "shell.execute_reply": "2024-02-19T09:35:52.805483Z"
        },
        "papermill": {
          "duration": 0.315016,
          "end_time": "2024-02-19T09:35:52.808780",
          "exception": false,
          "start_time": "2024-02-19T09:35:52.493764",
          "status": "completed"
        },
        "tags": [],
        "id": "48039d24",
        "outputId": "40839d46-970c-4729-edce-51bcb30072e6"
      },
      "outputs": [
        {
          "name": "stdout",
          "output_type": "stream",
          "text": [
            "(20000, 32, 32, 3)\n",
            "(20000,)\n"
          ]
        }
      ],
      "source": [
        "test=np.array(test)\n",
        "print(test.shape)\n",
        "test_label=np.array(test_label)\n",
        "print(test_label.shape)"
      ]
    },
    {
      "cell_type": "code",
      "execution_count": null,
      "id": "3724455a",
      "metadata": {
        "execution": {
          "iopub.execute_input": "2024-02-19T09:35:53.089642Z",
          "iopub.status.busy": "2024-02-19T09:35:53.089270Z",
          "iopub.status.idle": "2024-02-19T09:35:54.772485Z",
          "shell.execute_reply": "2024-02-19T09:35:54.771403Z"
        },
        "papermill": {
          "duration": 1.825164,
          "end_time": "2024-02-19T09:35:54.774622",
          "exception": false,
          "start_time": "2024-02-19T09:35:52.949458",
          "status": "completed"
        },
        "tags": [],
        "id": "3724455a",
        "outputId": "63bb4de7-19cd-4dbd-a856-02bfcd3e0bb4"
      },
      "outputs": [
        {
          "name": "stdout",
          "output_type": "stream",
          "text": [
            "625/625 [==============================] - 1s 2ms/step - loss: 0.1924 - accuracy: 0.9316\n"
          ]
        },
        {
          "data": {
            "text/plain": [
              "[0.192388653755188, 0.9315999746322632]"
            ]
          },
          "execution_count": 11,
          "metadata": {},
          "output_type": "execute_result"
        }
      ],
      "source": [
        "model.evaluate(test,test_label)"
      ]
    },
    {
      "cell_type": "code",
      "execution_count": null,
      "id": "f19e5833",
      "metadata": {
        "execution": {
          "iopub.execute_input": "2024-02-19T09:35:55.065039Z",
          "iopub.status.busy": "2024-02-19T09:35:55.064716Z",
          "iopub.status.idle": "2024-02-19T09:35:55.233576Z",
          "shell.execute_reply": "2024-02-19T09:35:55.232193Z"
        },
        "papermill": {
          "duration": 0.316229,
          "end_time": "2024-02-19T09:35:55.236549",
          "exception": false,
          "start_time": "2024-02-19T09:35:54.920320",
          "status": "completed"
        },
        "tags": [],
        "id": "f19e5833"
      },
      "outputs": [],
      "source": [
        "from tensorflow.keras.models import load_model\n",
        "\n",
        "modelnew=load_model('fake_real.h5')"
      ]
    },
    {
      "cell_type": "code",
      "execution_count": null,
      "id": "b51a20a4",
      "metadata": {
        "execution": {
          "iopub.execute_input": "2024-02-19T09:35:55.530438Z",
          "iopub.status.busy": "2024-02-19T09:35:55.530065Z",
          "iopub.status.idle": "2024-02-19T09:35:57.289656Z",
          "shell.execute_reply": "2024-02-19T09:35:57.288793Z"
        },
        "papermill": {
          "duration": 1.906626,
          "end_time": "2024-02-19T09:35:57.292094",
          "exception": false,
          "start_time": "2024-02-19T09:35:55.385468",
          "status": "completed"
        },
        "tags": [],
        "id": "b51a20a4",
        "outputId": "78dccd7a-1231-4cca-e148-f62727c25ea2"
      },
      "outputs": [
        {
          "name": "stdout",
          "output_type": "stream",
          "text": [
            "625/625 [==============================] - 1s 2ms/step\n"
          ]
        }
      ],
      "source": [
        "\n",
        "\n",
        "\n",
        "# make predictiontest1_Dataset\n",
        "predictions = model.predict(test)"
      ]
    },
    {
      "cell_type": "code",
      "execution_count": null,
      "id": "14471497",
      "metadata": {
        "execution": {
          "iopub.execute_input": "2024-02-19T09:35:57.587194Z",
          "iopub.status.busy": "2024-02-19T09:35:57.586427Z",
          "iopub.status.idle": "2024-02-19T09:35:57.593455Z",
          "shell.execute_reply": "2024-02-19T09:35:57.592517Z"
        },
        "papermill": {
          "duration": 0.158628,
          "end_time": "2024-02-19T09:35:57.595615",
          "exception": false,
          "start_time": "2024-02-19T09:35:57.436987",
          "status": "completed"
        },
        "tags": [],
        "id": "14471497",
        "outputId": "af9e8073-18c8-4682-b46c-e5d988e872d1"
      },
      "outputs": [
        {
          "data": {
            "text/plain": [
              "array([[0],\n",
              "       [0],\n",
              "       [0],\n",
              "       ...,\n",
              "       [1],\n",
              "       [1],\n",
              "       [1]])"
            ]
          },
          "execution_count": 14,
          "metadata": {},
          "output_type": "execute_result"
        }
      ],
      "source": [
        "binary_predictions = (predictions > 0.5).astype(int)\n",
        "binary_predictions"
      ]
    },
    {
      "cell_type": "code",
      "execution_count": null,
      "id": "fc267505",
      "metadata": {
        "execution": {
          "iopub.execute_input": "2024-02-19T09:35:57.887247Z",
          "iopub.status.busy": "2024-02-19T09:35:57.886531Z",
          "iopub.status.idle": "2024-02-19T09:35:58.078988Z",
          "shell.execute_reply": "2024-02-19T09:35:58.077956Z"
        },
        "papermill": {
          "duration": 0.340567,
          "end_time": "2024-02-19T09:35:58.081268",
          "exception": false,
          "start_time": "2024-02-19T09:35:57.740701",
          "status": "completed"
        },
        "tags": [],
        "id": "fc267505",
        "outputId": "053415b8-a5b5-49f6-9b1e-5f04d05b0e3d"
      },
      "outputs": [
        {
          "name": "stdout",
          "output_type": "stream",
          "text": [
            "(32, 32, 3)\n",
            "1/1 [==============================] - 0s 134ms/step\n",
            "[[0.99358726]]\n",
            "Predicted class: [[1]]\n"
          ]
        }
      ],
      "source": [
        "import cv2\n",
        "im=cv2.imread('/kaggle/input/cifake-real-and-ai-generated-synthetic-images/train/REAL/0002 (9).jpg')\n",
        "im=im/255\n",
        "print(im.shape)\n",
        "im=im.reshape(1,32,32,3)\n",
        "pred= model.predict(im)\n",
        "print(pred)\n",
        "pred=(pred > 0.5).astype(int)\n",
        "\n",
        "print(\"Predicted class:\", pred)"
      ]
    },
    {
      "cell_type": "code",
      "execution_count": null,
      "id": "9cea2287",
      "metadata": {
        "execution": {
          "iopub.execute_input": "2024-02-19T09:35:58.393079Z",
          "iopub.status.busy": "2024-02-19T09:35:58.392668Z",
          "iopub.status.idle": "2024-02-19T09:35:58.752690Z",
          "shell.execute_reply": "2024-02-19T09:35:58.751790Z"
        },
        "papermill": {
          "duration": 0.510448,
          "end_time": "2024-02-19T09:35:58.754574",
          "exception": false,
          "start_time": "2024-02-19T09:35:58.244126",
          "status": "completed"
        },
        "tags": [],
        "id": "9cea2287",
        "outputId": "9f19d9dd-ed82-4488-c211-0863a250e33b",
        "colab": {
          "base_uri": "https://localhost:8080/",
          "height": 211
        }
      },
      "outputs": [
        {
          "output_type": "error",
          "ename": "NameError",
          "evalue": "name 'y_test' is not defined",
          "traceback": [
            "\u001b[0;31m---------------------------------------------------------------------------\u001b[0m",
            "\u001b[0;31mNameError\u001b[0m                                 Traceback (most recent call last)",
            "\u001b[0;32m/tmp/ipython-input-3855906357.py\u001b[0m in \u001b[0;36m<cell line: 0>\u001b[0;34m()\u001b[0m\n\u001b[1;32m      2\u001b[0m \u001b[0;34m\u001b[0m\u001b[0m\n\u001b[1;32m      3\u001b[0m \u001b[0;31m# Assuming you have true labels (ground truth)\u001b[0m\u001b[0;34m\u001b[0m\u001b[0;34m\u001b[0m\u001b[0m\n\u001b[0;32m----> 4\u001b[0;31m \u001b[0mtrue_labels\u001b[0m \u001b[0;34m=\u001b[0m \u001b[0my_test\u001b[0m\u001b[0;34m\u001b[0m\u001b[0;34m\u001b[0m\u001b[0m\n\u001b[0m\u001b[1;32m      5\u001b[0m \u001b[0;34m\u001b[0m\u001b[0m\n\u001b[1;32m      6\u001b[0m \u001b[0;31m# Generate a confusion matrix\u001b[0m\u001b[0;34m\u001b[0m\u001b[0;34m\u001b[0m\u001b[0m\n",
            "\u001b[0;31mNameError\u001b[0m: name 'y_test' is not defined"
          ]
        }
      ],
      "source": [
        "from sklearn.metrics import confusion_matrix, classification_report\n",
        "\n",
        "# Assuming you have true labels (ground truth)\n",
        "true_labels = y_test\n",
        "\n",
        "# Generate a confusion matrix\n",
        "sns.heatmap(confusion_matrix(true_labels, binary_predictions), annot=True)\n",
        "\n",
        "# Print classification report\n",
        "print(classification_report(true_labels, binary_predictions))\n",
        "\n",
        "plt.title('Confusion Matrix')\n",
        "plt.xlabel('Predicted')\n",
        "plt.ylabel('Actual Classes')\n",
        "plt.show()"
      ]
    },
    {
      "cell_type": "code",
      "execution_count": null,
      "id": "aa1db2f4",
      "metadata": {
        "execution": {
          "iopub.execute_input": "2024-02-19T09:35:59.047861Z",
          "iopub.status.busy": "2024-02-19T09:35:59.047483Z",
          "iopub.status.idle": "2024-02-19T09:35:59.054573Z",
          "shell.execute_reply": "2024-02-19T09:35:59.053622Z"
        },
        "papermill": {
          "duration": 0.156174,
          "end_time": "2024-02-19T09:35:59.056614",
          "exception": false,
          "start_time": "2024-02-19T09:35:58.900440",
          "status": "completed"
        },
        "tags": [],
        "id": "aa1db2f4"
      },
      "outputs": [],
      "source": [
        "def plot_training_graph(history):\n",
        "    plt.plot(history.history['accuracy'])\n",
        "    plt.plot(history.history['val_accuracy'])\n",
        "    plt.title('model')\n",
        "    plt.ylabel('accuracy')\n",
        "    plt.xlabel('epoch')\n",
        "    plt.legend(['training accuracy','validation accuracy'], loc='best')\n",
        "    plt.show()\n",
        "\n",
        "    plt.plot(history.history['loss'])\n",
        "    plt.plot(history.history['val_loss'])\n",
        "    plt.title('model')\n",
        "    plt.ylabel('loss')\n",
        "    plt.xlabel('epoch')\n",
        "    plt.legend(['training loss','validation loss'], loc='best')\n",
        "    plt.show()"
      ]
    },
    {
      "cell_type": "code",
      "source": [],
      "metadata": {
        "id": "E7j6UTxIXMqf"
      },
      "id": "E7j6UTxIXMqf",
      "execution_count": null,
      "outputs": []
    },
    {
      "cell_type": "code",
      "execution_count": null,
      "id": "48b815b0",
      "metadata": {
        "execution": {
          "iopub.execute_input": "2024-02-19T09:35:59.353213Z",
          "iopub.status.busy": "2024-02-19T09:35:59.352350Z",
          "iopub.status.idle": "2024-02-19T09:35:59.930883Z",
          "shell.execute_reply": "2024-02-19T09:35:59.929957Z"
        },
        "papermill": {
          "duration": 0.729934,
          "end_time": "2024-02-19T09:35:59.932967",
          "exception": false,
          "start_time": "2024-02-19T09:35:59.203033",
          "status": "completed"
        },
        "tags": [],
        "id": "48b815b0",
        "outputId": "fa8a5430-bfd7-4bdc-cdd2-dfe20d96226a"
      },
      "outputs": [
        {
          "data": {
            "image/png": "[encoded data removed]",
            "text/plain": [
              "<Figure size 640x480 with 1 Axes>"
            ]
          },
          "metadata": {},
          "output_type": "display_data"
        },
        {
          "data": {
            "image/png": "[encoded data removed]",
            "text/plain": [
              "<Figure size 640x480 with 1 Axes>"
            ]
          },
          "metadata": {},
          "output_type": "display_data"
        }
      ],
      "source": [
        "plot_training_graph(history)"
      ]
    },
    {
      "cell_type": "code",
      "source": [
        "!git config --global user.email \"your_real_email@example.com\"\n",
        "!git config --global user.name \"Akashpryrm\"\n",
        "\n",
        "# (Run only once – if already cloned, skip cloning again)\n",
        "!git clone https://github.com/Akashpryrm/my-colab-project.git\n",
        "%cd my-colab-project\n",
        "\n",
        "# Copy the notebook (replace with the correct path)\n",
        "!cp \"/content/fake-image-detection-using-cnn (1).ipynb\" .\n",
        "\n",
        "# Add and commit\n",
        "!git add .\n",
        "!git commit -m \"Added fake image detection project\"\n",
        "\n",
        "# Make sure branch exists\n",
        "!git branch -M main\n",
        "\n",
        "# Push to GitHub\n",
        "!git push -u origin main\n",
        "\n"
      ],
      "metadata": {
        "colab": {
          "base_uri": "https://localhost:8080/"
        },
        "id": "950QvnjrXOlV",
        "outputId": "d46073f5-5a35-4a35-8f4b-20e47974cb8c"
      },
      "id": "950QvnjrXOlV",
      "execution_count": 2,
      "outputs": [
        {
          "output_type": "stream",
          "name": "stdout",
          "text": [
            "Cloning into 'my-colab-project'...\n",
            "warning: You appear to have cloned an empty repository.\n",
            "/content/my-colab-project/my-colab-project\n",
            "cp: cannot stat '/content/fake-image-detection-using-cnn (1).ipynb': No such file or directory\n",
            "On branch main\n",
            "\n",
            "Initial commit\n",
            "\n",
            "nothing to commit (create/copy files and use \"git add\" to track)\n",
            "error: src refspec main does not match any\n",
            "\u001b[31merror: failed to push some refs to 'https://github.com/Akashpryrm/my-colab-project.git'\n",
            "\u001b[m"
          ]
        }
      ]
    },
    {
      "cell_type": "code",
      "source": [],
      "metadata": {
        "id": "_EhlCJ_PY_j9"
      },
      "id": "_EhlCJ_PY_j9",
      "execution_count": null,
      "outputs": []
    }
  ],
  "metadata": {
    "kaggle": {
      "accelerator": "gpu",
      "dataSources": [
        {
          "datasetId": 3041726,
          "sourceId": 5256696,
          "sourceType": "datasetVersion"
        }
      ],
      "dockerImageVersionId": 30558,
      "isGpuEnabled": true,
      "isInternetEnabled": true,
      "language": "python",
      "sourceType": "notebook"
    },
    "kernelspec": {
      "display_name": "Python 3",
      "language": "python",
      "name": "python3"
    },
    "language_info": {
      "codemirror_mode": {
        "name": "ipython",
        "version": 3
      },
      "file_extension": ".py",
      "mimetype": "text/x-python",
      "name": "python",
      "nbconvert_exporter": "python",
      "pygments_lexer": "ipython3",
      "version": "3.10.12"
    },
    "papermill": {
      "default_parameters": {},
      "duration": 565.818931,
      "end_time": "2024-02-19T09:36:02.897999",
      "environment_variables": {},
      "exception": null,
      "input_path": "__notebook__.ipynb",
      "output_path": "__notebook__.ipynb",
      "parameters": {},
      "start_time": "2024-02-19T09:26:37.079068",
      "version": "2.4.0"
    },
    "colab": {
      "provenance": []
    }
  },
  "nbformat": 4,
  "nbformat_minor": 5
}